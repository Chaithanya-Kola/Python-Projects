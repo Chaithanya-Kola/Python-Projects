{
 "cells": [
  {
   "cell_type": "code",
   "execution_count": 15,
   "metadata": {},
   "outputs": [],
   "source": [
    "import mysql.connector"
   ]
  },
  {
   "cell_type": "code",
   "execution_count": 36,
   "metadata": {},
   "outputs": [],
   "source": [
    "connection = mysql.connector.connect(\n",
    "    user='mysqluser',\n",
    "    password='*7E567C9DC06217268D72D52BABCA14EAB8993ACF',\n",
    "    host='104.237.2.219',\n",
    "    port='5340',\n",
    "    database='retail'\n",
    ")\n",
    "\n",
    "cursor = connection.cursor()"
   ]
  },
  {
   "cell_type": "code",
   "execution_count": 37,
   "metadata": {},
   "outputs": [
    {
     "data": {
      "text/plain": [
       "()"
      ]
     },
     "execution_count": 37,
     "metadata": {},
     "output_type": "execute_result"
    }
   ],
   "source": [
    "cursor.callproc(\"manage_customer_data\")"
   ]
  },
  {
   "cell_type": "code",
   "execution_count": 46,
   "metadata": {},
   "outputs": [],
   "source": [
    "cursor.execute(\"\"\"\n",
    "create procedure customers_new()\n",
    "begin\n",
    "            CREATE TABLE  Customers_data (\n",
    "            CustomerID INT AUTO_INCREMENT PRIMARY KEY,\n",
    "            Name VARCHAR(100),\n",
    "            Email VARCHAR(100)\n",
    "        );  \n",
    "\n",
    "            INSERT INTO Customers_data (Name,Email) Values (\"Sai\",\"sai@gmail.com\"),(\"Vishnu\",\"vishnu@gmail.com\");   \n",
    "end;             \n",
    "\"\"\")"
   ]
  },
  {
   "cell_type": "code",
   "execution_count": 47,
   "metadata": {},
   "outputs": [
    {
     "data": {
      "text/plain": [
       "()"
      ]
     },
     "execution_count": 47,
     "metadata": {},
     "output_type": "execute_result"
    }
   ],
   "source": [
    "cursor.callproc(\"customers_new\")"
   ]
  },
  {
   "cell_type": "code",
   "execution_count": 48,
   "metadata": {},
   "outputs": [
    {
     "name": "stdout",
     "output_type": "stream",
     "text": [
      "Customers Table Data:\n",
      "(1, 'Sai', 'sai@gmail.com')\n",
      "(2, 'Vishnu', 'vishnu@gmail.com')\n"
     ]
    }
   ],
   "source": [
    "cursor.execute(\"SELECT * FROM Customers_data\")\n",
    "customers = cursor.fetchall()\n",
    "print(\"Customers Table Data:\")\n",
    "for customer in customers:\n",
    "    print(customer)"
   ]
  }
 ],
 "metadata": {
  "kernelspec": {
   "display_name": "Python 3",
   "language": "python",
   "name": "python3"
  },
  "language_info": {
   "codemirror_mode": {
    "name": "ipython",
    "version": 3
   },
   "file_extension": ".py",
   "mimetype": "text/x-python",
   "name": "python",
   "nbconvert_exporter": "python",
   "pygments_lexer": "ipython3",
   "version": "3.13.1"
  }
 },
 "nbformat": 4,
 "nbformat_minor": 2
}
