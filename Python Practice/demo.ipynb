{
 "cells": [
  {
   "cell_type": "code",
   "execution_count": 2,
   "metadata": {},
   "outputs": [],
   "source": [
    "shopping_list = [\n",
    "    {\"item\": \"Apple\", \"price\": 10, \"quantity\": 1},\n",
    "    {\"item\": \"Bread\", \"price\": 20, \"quantity\": 1},\n",
    "    {\"item\": \"Milk\", \"price\": 30, \"quantity\": 1},\n",
    "    {\"item\": \"Eggs\", \"price\": 40, \"quantity\": 1}\n",
    "]"
   ]
  },
  {
   "cell_type": "code",
   "execution_count": 4,
   "metadata": {},
   "outputs": [
    {
     "name": "stdout",
     "output_type": "stream",
     "text": [
      "<class 'list'>\n"
     ]
    }
   ],
   "source": [
    "print(type(shopping_list\n",
    "           ))"
   ]
  },
  {
   "cell_type": "code",
   "execution_count": 5,
   "metadata": {},
   "outputs": [
    {
     "name": "stdout",
     "output_type": "stream",
     "text": [
      "<class 'dict'>\n"
     ]
    }
   ],
   "source": [
    "print(type(shopping_list[0]))"
   ]
  },
  {
   "cell_type": "code",
   "execution_count": 7,
   "metadata": {},
   "outputs": [
    {
     "name": "stdout",
     "output_type": "stream",
     "text": [
      "Apple\n"
     ]
    }
   ],
   "source": [
    "print(shopping_list[0]['item'])"
   ]
  },
  {
   "cell_type": "code",
   "execution_count": 8,
   "metadata": {},
   "outputs": [],
   "source": [
    "# Function to calculate the total cost\n",
    "def calculate_total_cost(items):\n",
    "    total_cost = 0  # Initialize the total cost\n",
    "    for item in items:  # Loop through each item in the list\n",
    "        item_cost = item[\"price\"] * item[\"quantity\"]  # Calculate the cost for each item\n",
    "        total_cost += item_cost  # Add to the total cost\n",
    "    return total_cost"
   ]
  },
  {
   "cell_type": "code",
   "execution_count": 9,
   "metadata": {},
   "outputs": [
    {
     "name": "stdout",
     "output_type": "stream",
     "text": [
      "Total cost of shopping: $100\n"
     ]
    }
   ],
   "source": [
    "total = calculate_total_cost(shopping_list)  # Call the function\n",
    "print(f\"Total cost of shopping: ${total}\")  "
   ]
  },
  {
   "cell_type": "code",
   "execution_count": 15,
   "metadata": {},
   "outputs": [],
   "source": [
    "# Function to print items over a specific price threshold\n",
    "def print_expensive_items(items, price_threshold):\n",
    "    print(f\"Items costing more than ${price_threshold}:\")\n",
    "    for item in items:  # Loop through each item in the list\n",
    "        if item[\"price\"] > price_threshold:  # Conditional logic\n",
    "            # print(f\"{item['item']} - ${item['price']} each\")\n",
    "            print(item['item'] +  \" \" +  str(item['price']))"
   ]
  },
  {
   "cell_type": "code",
   "execution_count": 16,
   "metadata": {},
   "outputs": [
    {
     "name": "stdout",
     "output_type": "stream",
     "text": [
      "Items costing more than $20:\n",
      "Milk 30\n",
      "Eggs 40\n"
     ]
    }
   ],
   "source": [
    "print_expensive_items(shopping_list, 20)"
   ]
  },
  {
   "cell_type": "code",
   "execution_count": 3,
   "metadata": {},
   "outputs": [
    {
     "name": "stdout",
     "output_type": "stream",
     "text": [
      "[{'item': 'Apple', 'price': 10, 'quantity': 1}, {'item': 'Bread', 'price': 20, 'quantity': 1}, {'item': 'Milk', 'price': 30, 'quantity': 1}, {'item': 'Eggs', 'price': 40, 'quantity': 1}]\n"
     ]
    }
   ],
   "source": [
    "print(shopping_list\n",
    "      )"
   ]
  },
  {
   "cell_type": "code",
   "execution_count": 1,
   "metadata": {},
   "outputs": [
    {
     "name": "stdout",
     "output_type": "stream",
     "text": [
      "Welcome to the Ticket Booking System!\n",
      "Currently, there are 100 tickets available.\n",
      "Successfully booked 30 tickets.\n",
      "Tickets remaining: 70\n",
      "Currently, there are 70 tickets available.\n",
      "Successfully booked 20 tickets.\n",
      "Tickets remaining: 50\n",
      "Thank you for visiting the Ticket Booking System. Goodbye!\n"
     ]
    }
   ],
   "source": [
    "def ticket_booking_system():\n",
    "    \"\"\"\n",
    "    This function simulates a simple ticket booking system. \n",
    "    It allows users to inquire about ticket availability and book tickets within the available limit.\n",
    "    \"\"\"\n",
    "    available_tickets = 100  # Initial number of available tickets\n",
    "\n",
    "    print(\"Welcome to the Ticket Booking System!\")\n",
    "\n",
    "    while True:\n",
    "        try:\n",
    "            # Prompt user for interest in booking tickets\n",
    "            interested = input(\"Are you interested to book tickets? (yes/no): \").strip().lower()\n",
    "\n",
    "            if interested == 'yes':\n",
    "                print(f\"Currently, there are {available_tickets} tickets available.\")\n",
    "\n",
    "                try:\n",
    "                    # Prompt user for the number of tickets to book\n",
    "                    tickets_to_book = int(input(\"How many tickets would you like to book? \"))\n",
    "\n",
    "                    if tickets_to_book <= 0:\n",
    "                        print(\"Please enter a valid number of tickets to book.\")\n",
    "                    elif tickets_to_book > available_tickets:\n",
    "                        print(\"Tickets available are less than the requested amount.\")\n",
    "                    else:\n",
    "                        available_tickets -= tickets_to_book\n",
    "                        print(f\"Successfully booked {tickets_to_book} tickets.\")\n",
    "                        print(f\"Tickets remaining: {available_tickets}\")\n",
    "\n",
    "                        if available_tickets == 0:\n",
    "                            print(\"All tickets are sold out. Thank you for using the Ticket Booking System!\")\n",
    "                            break\n",
    "\n",
    "                except ValueError:\n",
    "                    print(\"Invalid input. Please enter a valid number.\")\n",
    "\n",
    "            elif interested == 'no':\n",
    "                print(\"Thank you for visiting the Ticket Booking System. Goodbye!\")\n",
    "                break\n",
    "\n",
    "            else:\n",
    "                print(\"Invalid response. Please answer with 'yes' or 'no'.\")\n",
    "\n",
    "        except (KeyboardInterrupt, EOFError):\n",
    "            print(\"\\nProgram interrupted by the user. Exiting...\")\n",
    "            break\n",
    "\n",
    "        except OSError as e:\n",
    "            print(f\"An I/O error occurred: {e}. Please check your environment and try again.\")\n",
    "            break\n",
    "\n",
    "# Run the ticket booking system\n",
    "if __name__ == \"__main__\":\n",
    "    try:\n",
    "        ticket_booking_system()\n",
    "    except Exception as e:\n",
    "        print(f\"Critical error: {e}. Exiting the program.\")"
   ]
  },
  {
   "cell_type": "code",
   "execution_count": 2,
   "metadata": {},
   "outputs": [
    {
     "name": "stdout",
     "output_type": "stream",
     "text": [
      "Welcome to the Ticket Booking System!\n",
      "Currently, there are 100 tickets available.\n",
      "Successfully booked 30 tickets.\n",
      "Tickets remaining: 70\n",
      "Successfully booked 20 more tickets.\n",
      "Tickets remaining: 50\n",
      "Thank you for using the Ticket Booking System. Goodbye!\n",
      "Thank you for visiting the Ticket Booking System. Goodbye!\n"
     ]
    }
   ],
   "source": [
    "def ticket_booking_system():\n",
    "    \"\"\"\n",
    "    This function simulates a simple ticket booking system. \n",
    "    It allows users to inquire about ticket availability and book tickets within the available limit.\n",
    "    \"\"\"\n",
    "    available_tickets = 100  # Initial number of available tickets\n",
    "\n",
    "    print(\"Welcome to the Ticket Booking System!\")\n",
    "\n",
    "    while True:\n",
    "        interested = input(\"Are you interested to book tickets? (yes/no): \").strip().lower()\n",
    "\n",
    "        if interested == 'yes':\n",
    "            print(f\"Currently, there are {available_tickets} tickets available.\")\n",
    "\n",
    "            try:\n",
    "                tickets_to_book = int(input(\"How many tickets would you like to book? \"))\n",
    "\n",
    "                if tickets_to_book <= 0:\n",
    "                    print(\"Please enter a valid number of tickets to book.\")\n",
    "                elif tickets_to_book > available_tickets:\n",
    "                    print(\"Tickets available are less than the requested amount.\")\n",
    "                else:\n",
    "                    available_tickets -= tickets_to_book\n",
    "                    print(f\"Successfully booked {tickets_to_book} tickets.\")\n",
    "                    print(f\"Tickets remaining: {available_tickets}\")\n",
    "\n",
    "                    if available_tickets == 0:\n",
    "                        print(\"All tickets are sold out. Thank you for using the Ticket Booking System!\")\n",
    "                        break\n",
    "\n",
    "                    while True:\n",
    "                        further_booking = input(\"Would you like to book more tickets? (yes/no): \").strip().lower()\n",
    "                        if further_booking == 'yes':\n",
    "                            try:\n",
    "                                more_tickets = int(input(\"How many more tickets would you like to book? \"))\n",
    "                                if more_tickets <= 0:\n",
    "                                    print(\"Please enter a valid number of tickets to book.\")\n",
    "                                elif more_tickets > available_tickets:\n",
    "                                    print(\"Tickets available are less than the requested amount.\")\n",
    "                                else:\n",
    "                                    available_tickets -= more_tickets\n",
    "                                    print(f\"Successfully booked {more_tickets} more tickets.\")\n",
    "                                    print(f\"Tickets remaining: {available_tickets}\")\n",
    "                                    if available_tickets == 0:\n",
    "                                        print(\"All tickets are sold out. Thank you for using the Ticket Booking System!\")\n",
    "                                        break\n",
    "                            except ValueError:\n",
    "                                print(\"Invalid input. Please enter a valid number.\")\n",
    "                        elif further_booking == 'no':\n",
    "                            print(\"Thank you for using the Ticket Booking System. Goodbye!\")\n",
    "                            break\n",
    "                        else:\n",
    "                            print(\"Invalid response. Please answer with 'yes' or 'no'.\")\n",
    "\n",
    "            except ValueError:\n",
    "                print(\"Invalid input. Please enter a valid number.\")\n",
    "\n",
    "        elif interested == 'no':\n",
    "            print(\"Thank you for visiting the Ticket Booking System. Goodbye!\")\n",
    "            break\n",
    "\n",
    "        else:\n",
    "            print(\"Invalid response. Please answer with 'yes' or 'no'.\")\n",
    "\n",
    "# Run the ticket booking system\n",
    "if __name__ == \"__main__\":\n",
    "    ticket_booking_system()"
   ]
  },
  {
   "cell_type": "code",
   "execution_count": 6,
   "metadata": {},
   "outputs": [
    {
     "name": "stdout",
     "output_type": "stream",
     "text": [
      "Welcome to the Ticket Booking System!\n",
      "Currently, there are 100 tickets available.\n",
      "Successfully booked 20 tickets.\n",
      "Tickets remaining: 80\n",
      "Successfully booked 20 more tickets.\n",
      "Tickets remaining: 60\n",
      "Thank you for using the Ticket Booking System. Goodbye!\n"
     ]
    }
   ],
   "source": [
    "def ticket_booking_system():\n",
    "    \"\"\"\n",
    "    This function simulates a simple ticket booking system. \n",
    "    It allows users to inquire about ticket availability and book tickets within the available limit.\n",
    "    \"\"\"\n",
    "    available_tickets = 100  # Initial number of available tickets\n",
    "\n",
    "    print(\"Welcome to the Ticket Booking System!\")\n",
    "\n",
    "    while True:\n",
    "        interested = input(\"Are you interested to book tickets? (yes/no): \").strip().lower()\n",
    "\n",
    "        if interested == 'yes':\n",
    "            print(f\"Currently, there are {available_tickets} tickets available.\")\n",
    "\n",
    "            try:\n",
    "                tickets_to_book = int(input(\"How many tickets would you like to book? \"))\n",
    "\n",
    "                if tickets_to_book <= 0:\n",
    "                    print(\"Please enter a valid number of tickets to book.\")\n",
    "                elif tickets_to_book > available_tickets:\n",
    "                    print(\"Tickets available are less than the requested amount.\")\n",
    "                else:\n",
    "                    available_tickets -= tickets_to_book\n",
    "                    print(f\"Successfully booked {tickets_to_book} tickets.\")\n",
    "                    print(f\"Tickets remaining: {available_tickets}\")\n",
    "\n",
    "                    if available_tickets == 0:\n",
    "                        print(\"All tickets are sold out. Thank you for using the Ticket Booking System!\")\n",
    "                        break\n",
    "\n",
    "                    while True:\n",
    "                        further_booking = input(\"Would you like to book more tickets? (yes/no): \").strip().lower()\n",
    "                        if further_booking == 'yes':\n",
    "                            try:\n",
    "                                more_tickets = int(input(\"How many more tickets would you like to book? \"))\n",
    "                                if more_tickets <= 0:\n",
    "                                    print(\"Please enter a valid number of tickets to book.\")\n",
    "                                elif more_tickets > available_tickets:\n",
    "                                    print(\"Tickets available are less than the requested amount.\")\n",
    "                                else:\n",
    "                                    available_tickets -= more_tickets\n",
    "                                    print(f\"Successfully booked {more_tickets} more tickets.\")\n",
    "                                    print(f\"Tickets remaining: {available_tickets}\")\n",
    "                                    if available_tickets == 0:\n",
    "                                        print(\"All tickets are sold out. Thank you for using the Ticket Booking System!\")\n",
    "                                        break\n",
    "                            except ValueError:\n",
    "                                print(\"Invalid input. Please enter a valid number.\")\n",
    "                        else:  # Terminate if 'no' for further booking\n",
    "                            print(\"Thank you for using the Ticket Booking System. Goodbye!\")\n",
    "                            return  # Exit the function\n",
    "\n",
    "            except ValueError:\n",
    "                print(\"Invalid input. Please enter a valid number.\")\n",
    "\n",
    "        else:  # Terminate if 'no' for initial booking\n",
    "            print(\"Thank you for visiting the Ticket Booking System. Goodbye!\")\n",
    "            return  # Exit the function\n",
    "\n",
    "# Run the ticket booking system\n",
    "if __name__ == \"__main__\":\n",
    "    ticket_booking_system()"
   ]
  },
  {
   "cell_type": "code",
   "execution_count": null,
   "metadata": {},
   "outputs": [],
   "source": []
  }
 ],
 "metadata": {
  "kernelspec": {
   "display_name": "Python 3",
   "language": "python",
   "name": "python3"
  },
  "language_info": {
   "codemirror_mode": {
    "name": "ipython",
    "version": 3
   },
   "file_extension": ".py",
   "mimetype": "text/x-python",
   "name": "python",
   "nbconvert_exporter": "python",
   "pygments_lexer": "ipython3",
   "version": "3.13.1"
  }
 },
 "nbformat": 4,
 "nbformat_minor": 2
}
