{
 "cells": [
  {
   "cell_type": "code",
   "execution_count": 1,
   "metadata": {},
   "outputs": [],
   "source": [
    "import mysql.connector"
   ]
  },
  {
   "cell_type": "code",
   "execution_count": 6,
   "metadata": {},
   "outputs": [],
   "source": [
    "mydb = mysql.connector.connect(\n",
    "    user='mysqluser',\n",
    "    password='*7E567C9DC06217268D72D52BABCA14EAB8993ACF',\n",
    "    host='104.237.2.219',\n",
    "    port='5340',\n",
    "    database='retail'\n",
    ")"
   ]
  },
  {
   "cell_type": "code",
   "execution_count": 7,
   "metadata": {},
   "outputs": [],
   "source": [
    "sampledb = mydb.cursor()"
   ]
  },
  {
   "cell_type": "code",
   "execution_count": 9,
   "metadata": {},
   "outputs": [
    {
     "name": "stdout",
     "output_type": "stream",
     "text": [
      "Database has been succesfully created\n"
     ]
    }
   ],
   "source": [
    "sampledb.execute(\"create database demo_database\")\n",
    "\n",
    "print(\"Database has been succesfully created\")"
   ]
  },
  {
   "cell_type": "code",
   "execution_count": 11,
   "metadata": {},
   "outputs": [
    {
     "name": "stdout",
     "output_type": "stream",
     "text": [
      "Database in use\n"
     ]
    }
   ],
   "source": [
    "sampledb.execute(\"use demo_database\")\n",
    "\n",
    "print(\"Database in use\")"
   ]
  },
  {
   "cell_type": "code",
   "execution_count": 16,
   "metadata": {},
   "outputs": [],
   "source": [
    "create_table = \"\"\"CREATE TABLE New_Table(\n",
    "\tTest_ID INT Primary key auto_increment,\n",
    "\tName VARCHAR(20),\n",
    "\tAge INT,\n",
    "\tEmail VARCHAR(25)\n",
    ")\"\"\""
   ]
  },
  {
   "cell_type": "code",
   "execution_count": 17,
   "metadata": {},
   "outputs": [
    {
     "name": "stdout",
     "output_type": "stream",
     "text": [
      "table has been created\n"
     ]
    }
   ],
   "source": [
    "sampledb.execute(create_table)\n",
    "\n",
    "print(\"table has been created\")"
   ]
  },
  {
   "cell_type": "code",
   "execution_count": 23,
   "metadata": {},
   "outputs": [],
   "source": [
    "sample_insert = \"\"\"INSERT into New_Table(Name,Age,Email) values (%s,%s,%s)\"\"\"\n",
    "\n",
    "persons = [\n",
    "    (\"Sai\",21,\"sai@gmail.com\"),\n",
    "    (\"Charan\",32,\"charan@gmail.com\"),\n",
    "    (\"Vishnu\",31,\"vishnu@gmail.com\")\n",
    "]"
   ]
  },
  {
   "cell_type": "code",
   "execution_count": 24,
   "metadata": {},
   "outputs": [
    {
     "name": "stdout",
     "output_type": "stream",
     "text": [
      "Inserted data\n"
     ]
    }
   ],
   "source": [
    "sampledb.executemany(sample_insert,persons)\n",
    "print(\"Inserted data\")"
   ]
  },
  {
   "cell_type": "code",
   "execution_count": 25,
   "metadata": {},
   "outputs": [
    {
     "name": "stdout",
     "output_type": "stream",
     "text": [
      "3 these are the rows which are updated\n"
     ]
    }
   ],
   "source": [
    "mydb.commit()\n",
    "print(f\"{sampledb.rowcount} these are the rows which are updated\")"
   ]
  },
  {
   "cell_type": "code",
   "execution_count": 28,
   "metadata": {},
   "outputs": [],
   "source": [
    "delete_query = \"\"\"Delete from New_Table where Name = 'Vishnu' \"\"\"\n"
   ]
  },
  {
   "cell_type": "code",
   "execution_count": 29,
   "metadata": {},
   "outputs": [
    {
     "name": "stdout",
     "output_type": "stream",
     "text": [
      "charan data deleted\n",
      "1 these are the rows which are deleted\n"
     ]
    }
   ],
   "source": [
    "sampledb.execute(delete_query)\n",
    "print(\"charan data deleted\")\n",
    "mydb.commit()\n",
    "print(f\"{sampledb.rowcount} these are the rows which are deleted\")"
   ]
  },
  {
   "cell_type": "code",
   "execution_count": 30,
   "metadata": {},
   "outputs": [],
   "source": [
    "update_query =\"\"\"update New_Table set age=22 where Name='sai' \"\"\""
   ]
  },
  {
   "cell_type": "code",
   "execution_count": 31,
   "metadata": {},
   "outputs": [
    {
     "name": "stdout",
     "output_type": "stream",
     "text": [
      "Sai data updated\n",
      "1 these are the rows which are updated\n"
     ]
    }
   ],
   "source": [
    "sampledb.execute(update_query)\n",
    "print(\"Sai data updated\")\n",
    "mydb.commit()\n",
    "print(f\"{sampledb.rowcount} these are the rows which are updated\")"
   ]
  },
  {
   "cell_type": "code",
   "execution_count": 32,
   "metadata": {},
   "outputs": [],
   "source": [
    "show_table = \"\"\"SELECT *from New_Table\"\"\"\n",
    "\n",
    "sampledb.execute(show_table)\n"
   ]
  },
  {
   "cell_type": "code",
   "execution_count": 33,
   "metadata": {},
   "outputs": [
    {
     "name": "stdout",
     "output_type": "stream",
     "text": [
      "Rows (1, 'Sai', 22, 'sai@gmail.com')\n"
     ]
    }
   ],
   "source": [
    "for row in sampledb.fetchall():\n",
    "    print(\"Rows\",row)"
   ]
  },
  {
   "cell_type": "code",
   "execution_count": 34,
   "metadata": {},
   "outputs": [
    {
     "name": "stdout",
     "output_type": "stream",
     "text": [
      "Table has been dropped\n"
     ]
    }
   ],
   "source": [
    "drop_table=\"\"\"drop Table New_Table\"\"\"\n",
    "sampledb.execute(drop_table)\n",
    "print(\"Table has been dropped\")"
   ]
  },
  {
   "cell_type": "code",
   "execution_count": 36,
   "metadata": {},
   "outputs": [
    {
     "name": "stdout",
     "output_type": "stream",
     "text": [
      "Database has been dropped\n"
     ]
    }
   ],
   "source": [
    "drop_db = \"\"\"Drop Database demo_database\"\"\"\n",
    "sampledb.execute(drop_db)\n",
    "print(\"Database has been dropped\")"
   ]
  },
  {
   "cell_type": "code",
   "execution_count": 37,
   "metadata": {},
   "outputs": [
    {
     "name": "stdout",
     "output_type": "stream",
     "text": [
      "all connections Closed\n"
     ]
    }
   ],
   "source": [
    "sampledb.close()\n",
    "mydb.close()\n",
    "print(\"all connections Closed\")\n"
   ]
  }
 ],
 "metadata": {
  "kernelspec": {
   "display_name": "Python 3",
   "language": "python",
   "name": "python3"
  },
  "language_info": {
   "codemirror_mode": {
    "name": "ipython",
    "version": 3
   },
   "file_extension": ".py",
   "mimetype": "text/x-python",
   "name": "python",
   "nbconvert_exporter": "python",
   "pygments_lexer": "ipython3",
   "version": "3.13.1"
  }
 },
 "nbformat": 4,
 "nbformat_minor": 2
}
