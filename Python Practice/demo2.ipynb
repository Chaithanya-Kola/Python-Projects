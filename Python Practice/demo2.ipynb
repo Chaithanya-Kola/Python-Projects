{
 "cells": [
  {
   "cell_type": "code",
   "execution_count": 7,
   "metadata": {},
   "outputs": [],
   "source": [
    "def greet_user(name):\n",
    "    print(f\"Hello, {name}! Welcome!\")\n",
    "\n",
    "# Function to display the user's age\n",
    "def display_age(age):\n",
    "    print(f\"You are {age} years old.\")"
   ]
  },
  {
   "cell_type": "code",
   "execution_count": 10,
   "metadata": {},
   "outputs": [],
   "source": [
    "def main():\n",
    "    try:\n",
    "        # Input for name\n",
    "        \n",
    "        name = input(\"Enter your name: \")\n",
    "        if name.isdigit():\n",
    "            print(\"Invalid input: Name cannot be a number. Please try again.\")\n",
    "        elif name == \"\":\n",
    "            print(\"Name cannot be empty. Please try again.\")\n",
    "            \n",
    "                \n",
    "        # Input for age\n",
    "    \n",
    "        try:\n",
    "            age = int(input(\"Enter your age: \"))\n",
    "                \n",
    "        except ValueError:\n",
    "            print(\"Error: Age must be a valid number. Please try again.\")\n",
    "\n",
    "        # Input for numbers\n",
    "        num1 = int(input(\"Enter a number: \"))\n",
    "        num2 = int(input(\"Enter another number: \"))\n",
    "\n",
    "        # Call functions\n",
    "        greet_user(name)\n",
    "        display_age(age)\n",
    "\n",
    "    except Exception as e:\n",
    "        print(f\"Unexpected error: {e}\")"
   ]
  },
  {
   "cell_type": "code",
   "execution_count": 11,
   "metadata": {},
   "outputs": [
    {
     "name": "stdout",
     "output_type": "stream",
     "text": [
      "Hello, Sai! Welcome!\n",
      "You are 21 years old.\n"
     ]
    }
   ],
   "source": [
    "if __name__ == \"__main__\":\n",
    "    main()"
   ]
  }
 ],
 "metadata": {
  "kernelspec": {
   "display_name": "Python 3",
   "language": "python",
   "name": "python3"
  },
  "language_info": {
   "codemirror_mode": {
    "name": "ipython",
    "version": 3
   },
   "file_extension": ".py",
   "mimetype": "text/x-python",
   "name": "python",
   "nbconvert_exporter": "python",
   "pygments_lexer": "ipython3",
   "version": "3.13.1"
  }
 },
 "nbformat": 4,
 "nbformat_minor": 2
}
