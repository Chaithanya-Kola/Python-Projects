{
 "cells": [
  {
   "cell_type": "code",
   "execution_count": 2,
   "metadata": {},
   "outputs": [],
   "source": [
    "import mysql.connector\n"
   ]
  },
  {
   "cell_type": "code",
   "execution_count": 3,
   "metadata": {},
   "outputs": [],
   "source": [
    "ndb = mysql.connector.connect(\n",
    "    user='mysqluser',\n",
    "    password='*7E567C9DC06217268D72D52BABCA14EAB8993ACF',\n",
    "    host='104.237.2.219',\n",
    "    port='5340',\n",
    "    database='retail'\n",
    ")"
   ]
  },
  {
   "cell_type": "code",
   "execution_count": 4,
   "metadata": {},
   "outputs": [],
   "source": [
    "testdb = ndb.cursor()"
   ]
  },
  {
   "cell_type": "code",
   "execution_count": 4,
   "metadata": {},
   "outputs": [
    {
     "name": "stdout",
     "output_type": "stream",
     "text": [
      "Database has been succesfully created\n"
     ]
    }
   ],
   "source": [
    "testdb = ndb.cursor()\n",
    "\n",
    "testdb.execute(\"create database comp_database\")\n",
    "\n",
    "print(\"Database has been succesfully created\")\n"
   ]
  },
  {
   "cell_type": "code",
   "execution_count": 5,
   "metadata": {},
   "outputs": [
    {
     "name": "stdout",
     "output_type": "stream",
     "text": [
      "Database is in Use\n"
     ]
    }
   ],
   "source": [
    "testdb.execute(\"use comp_database\")\n",
    "print(\"Database is in Use\")"
   ]
  },
  {
   "cell_type": "code",
   "execution_count": 6,
   "metadata": {},
   "outputs": [],
   "source": [
    "testdb.execute(\"\"\"\n",
    "               Create Table dep_table(\n",
    "               Dep_ID INT Primary key Auto_increment,\n",
    "               Dep_Name VARCHAR (30)\n",
    "               )\"\"\")"
   ]
  },
  {
   "cell_type": "code",
   "execution_count": 14,
   "metadata": {},
   "outputs": [
    {
     "name": "stdout",
     "output_type": "stream",
     "text": [
      "Emp and Dept tables are Created\n"
     ]
    }
   ],
   "source": [
    "testdb.execute(\"\"\"\n",
    "               Create Table employee_table(\n",
    "               Emp_ID INT Primary key Auto_increment,\n",
    "               Emp_Name VARCHAR (30),\n",
    "               Emp_Salary Decimal(10,2),\n",
    "               Dep_ID INT,\n",
    "               foreign key (Dep_ID) References dep_table (Dep_ID)\n",
    "               )\"\"\")\n",
    "print(\"Emp and Dept tables are Created\")"
   ]
  },
  {
   "cell_type": "code",
   "execution_count": 18,
   "metadata": {},
   "outputs": [
    {
     "name": "stdout",
     "output_type": "stream",
     "text": [
      "Departments Inserted\n"
     ]
    }
   ],
   "source": [
    "departments = [(\"HR\",),(\"Marketing\",),(\"Sales\",),(\"Product\",),(\"Project\",)]\n",
    "for dep in departments:\n",
    "    testdb.execute(\"Insert into dep_table (Dep_Name) values (%s)\" ,dep)\n",
    "ndb.commit()\n",
    "print(\"Departments Inserted\")\n",
    "\n"
   ]
  },
  {
   "cell_type": "code",
   "execution_count": 19,
   "metadata": {},
   "outputs": [
    {
     "name": "stdout",
     "output_type": "stream",
     "text": [
      "Employee values inserted\n"
     ]
    }
   ],
   "source": [
    "employees=[(\"Hari\",2000.00,1),\n",
    "           (\"Siva\",3000.00,2),\n",
    "           (\"Surya\",4000.00,3),\n",
    "           (\"Charan\",5000.00,4),\n",
    "           (\"Phani\",6000.00,5),\n",
    "           (\"Chay\",3000.00,2),\n",
    "           (\"Siri\",4000.00,4)\n",
    "           ]\n",
    "for emp in employees:\n",
    "    testdb.execute(\"insert into employee_table (Emp_Name,Emp_Salary,Dep_ID) Values (%s,%s,%s)\",emp)\n",
    "ndb.commit()\n",
    "print(\"Employee values inserted\")"
   ]
  },
  {
   "cell_type": "code",
   "execution_count": 30,
   "metadata": {},
   "outputs": [
    {
     "name": "stdout",
     "output_type": "stream",
     "text": [
      "Slaray has been updated\n"
     ]
    }
   ],
   "source": [
    "for emp_id in range (1,8):\n",
    "    if emp_id == 1:\n",
    "         testdb.execute(\"\"\"Update employee_table set Emp_Salary=3000.00 where Emp_ID = %s\"\"\",(emp_id,))\n",
    "ndb.commit()\n",
    "print(\"Slaray has been updated\")\n",
    "\n"
   ]
  },
  {
   "cell_type": "code",
   "execution_count": 32,
   "metadata": {},
   "outputs": [
    {
     "name": "stdout",
     "output_type": "stream",
     "text": [
      "(1, 'HR')\n",
      "(2, 'Marketing')\n",
      "(3, 'Sales')\n",
      "(4, 'Product')\n",
      "(5, 'Project')\n"
     ]
    }
   ],
   "source": [
    "\n",
    "show_table2 = \"\"\"SELECT *from dep_table\"\"\"\n",
    "testdb.execute(show_table2)\n",
    "department = testdb.fetchall()\n",
    "for depart in department:\n",
    "    print(depart)\n",
    "\n"
   ]
  },
  {
   "cell_type": "code",
   "execution_count": 53,
   "metadata": {},
   "outputs": [
    {
     "name": "stdout",
     "output_type": "stream",
     "text": [
      "(1, 'Hari', Decimal('3000.00'), 1)\n",
      "(2, 'Siva', Decimal('3000.00'), 2)\n",
      "(3, 'Surya', Decimal('4000.00'), 3)\n",
      "(4, 'Charan', Decimal('5000.00'), 4)\n",
      "(5, 'Phani', Decimal('6000.00'), None)\n",
      "(7, 'Siri', Decimal('4000.00'), None)\n"
     ]
    }
   ],
   "source": [
    "\n",
    "show_table1 = \"\"\"SELECT *from employee_table\"\"\"\n",
    "testdb.execute(show_table1)\n",
    "employee = testdb.fetchall()\n",
    "for employ in employee:\n",
    "    print(employ)"
   ]
  },
  {
   "cell_type": "code",
   "execution_count": 34,
   "metadata": {},
   "outputs": [],
   "source": [
    "testdb.execute(\"Delete from employee_table where Emp_ID=6\")\n",
    "ndb.commit()\n"
   ]
  },
  {
   "cell_type": "code",
   "execution_count": null,
   "metadata": {},
   "outputs": [
    {
     "name": "stdout",
     "output_type": "stream",
     "text": [
      "1\n",
      "2\n",
      "3\n",
      "4\n",
      "5\n"
     ]
    }
   ],
   "source": [
    "#get the distinct values\n",
    "testdb.execute(\"Select distinct `Dep_ID` from `employee_table`\")\n",
    "dis_dep = testdb.fetchall()\n",
    "for depa in dis_dep:\n",
    "    print(depa[0])"
   ]
  },
  {
   "cell_type": "code",
   "execution_count": 57,
   "metadata": {},
   "outputs": [
    {
     "name": "stdout",
     "output_type": "stream",
     "text": [
      "(1, 'Hari', Decimal('3000.00'), 'HR')\n",
      "(2, 'Siva', Decimal('3000.00'), 'Marketing')\n",
      "(3, 'Surya', Decimal('4000.00'), 'Sales')\n",
      "(4, 'Charan', Decimal('5000.00'), 'Product')\n"
     ]
    }
   ],
   "source": [
    "#innerjoin\n",
    "testdb.execute(\"\"\" \n",
    "    select E.Emp_ID,E.Emp_Name,E.Emp_salary,D.Dep_Name from employee_table E \n",
    "    inner join dep_table D on E.Dep_ID = D.Dep_ID\n",
    "\"\"\")\n",
    "innerjoin=testdb.fetchall()\n",
    "for join in innerjoin:\n",
    "    print(join)\n"
   ]
  },
  {
   "cell_type": "code",
   "execution_count": 58,
   "metadata": {},
   "outputs": [
    {
     "name": "stdout",
     "output_type": "stream",
     "text": [
      "(1, 'Hari', Decimal('3000.00'), 'HR')\n",
      "(2, 'Siva', Decimal('3000.00'), 'Marketing')\n",
      "(3, 'Surya', Decimal('4000.00'), 'Sales')\n",
      "(4, 'Charan', Decimal('5000.00'), 'Product')\n",
      "(5, 'Phani', Decimal('6000.00'), None)\n",
      "(7, 'Siri', Decimal('4000.00'), None)\n"
     ]
    }
   ],
   "source": [
    "#leftjoin\n",
    "testdb.execute(\"\"\" \n",
    "    select E.Emp_ID,E.Emp_Name,E.Emp_salary,D.Dep_Name from employee_table E \n",
    "    left join dep_table D on E.Dep_ID = D.Dep_ID\n",
    "\"\"\")\n",
    "leftjoin=testdb.fetchall()\n",
    "for joins in leftjoin:\n",
    "    print(joins)\n"
   ]
  },
  {
   "cell_type": "code",
   "execution_count": 59,
   "metadata": {},
   "outputs": [
    {
     "name": "stdout",
     "output_type": "stream",
     "text": [
      "(1, 'Hari', Decimal('3000.00'), 'HR')\n",
      "(2, 'Siva', Decimal('3000.00'), 'Marketing')\n",
      "(3, 'Surya', Decimal('4000.00'), 'Sales')\n",
      "(4, 'Charan', Decimal('5000.00'), 'Product')\n",
      "(None, None, None, 'Project')\n"
     ]
    }
   ],
   "source": [
    "#rightjoin\n",
    "testdb.execute(\"\"\" \n",
    "    select E.Emp_ID,E.Emp_Name,E.Emp_salary,D.Dep_Name from employee_table E \n",
    "    right join dep_table D on E.Dep_ID = D.Dep_ID\n",
    "\"\"\")\n",
    "rightjoin=testdb.fetchall()\n",
    "for joinss in rightjoin:\n",
    "    print(joinss)\n"
   ]
  },
  {
   "cell_type": "code",
   "execution_count": 52,
   "metadata": {},
   "outputs": [],
   "source": [
    "testdb.execute(\"update employee_table set Dep_ID = Null  where Emp_ID=7\")\n",
    "ndb.commit()"
   ]
  },
  {
   "cell_type": "code",
   "execution_count": 68,
   "metadata": {},
   "outputs": [
    {
     "name": "stdout",
     "output_type": "stream",
     "text": [
      "('Product', Decimal('5000.000000'))\n"
     ]
    }
   ],
   "source": [
    "#groupby\n",
    "testdb.execute(\"\"\"\n",
    "select D.Dep_Name,Avg(E.Emp_Salary) as Avg_Salary from employee_table E \n",
    "    right join dep_table D on E.Dep_ID = D.Dep_ID \n",
    "    group by D.Dep_Name having Avg_salary>4000.00 \n",
    "\"\"\")\n",
    "groupby=testdb.fetchall()\n",
    "for by in groupby:\n",
    "    print(by)\n",
    " "
   ]
  },
  {
   "cell_type": "code",
   "execution_count": 73,
   "metadata": {},
   "outputs": [
    {
     "name": "stdout",
     "output_type": "stream",
     "text": [
      "('Siva',)\n",
      "('Surya',)\n"
     ]
    }
   ],
   "source": [
    "#like operator\n",
    "testdb.execute(\"\"\" \n",
    "select Emp_Name from employee_table where Emp_name like '%a'\n",
    "\"\"\")\n",
    "like=testdb.fetchall()\n",
    "for new in like:\n",
    "    print(new)"
   ]
  },
  {
   "cell_type": "code",
   "execution_count": 74,
   "metadata": {},
   "outputs": [
    {
     "name": "stdout",
     "output_type": "stream",
     "text": [
      "('Surya',)\n"
     ]
    }
   ],
   "source": [
    "#in opertor\n",
    "testdb.execute(\"\"\" \n",
    "select Emp_Name from employee_table where Emp_ID in (3)\n",
    "\"\"\")\n",
    "raw=testdb.fetchall()\n",
    "for saw in raw:\n",
    "    print(saw)"
   ]
  },
  {
   "cell_type": "code",
   "execution_count": 5,
   "metadata": {},
   "outputs": [
    {
     "ename": "ProgrammingError",
     "evalue": "1051 (42S02): Unknown table 'retail.stud_table'",
     "output_type": "error",
     "traceback": [
      "\u001b[1;31m---------------------------------------------------------------------------\u001b[0m",
      "\u001b[1;31mProgrammingError\u001b[0m                          Traceback (most recent call last)",
      "Cell \u001b[1;32mIn[5], line 2\u001b[0m\n\u001b[0;32m      1\u001b[0m drop_table\u001b[38;5;241m=\u001b[39m\u001b[38;5;124m\"\"\"\u001b[39m\u001b[38;5;124mdrop Table stud_table\u001b[39m\u001b[38;5;124m\"\"\"\u001b[39m\n\u001b[1;32m----> 2\u001b[0m \u001b[43mtestdb\u001b[49m\u001b[38;5;241;43m.\u001b[39;49m\u001b[43mexecute\u001b[49m\u001b[43m(\u001b[49m\u001b[43mdrop_table\u001b[49m\u001b[43m)\u001b[49m\n\u001b[0;32m      3\u001b[0m \u001b[38;5;28mprint\u001b[39m(\u001b[38;5;124m\"\u001b[39m\u001b[38;5;124mTable has been dropped\u001b[39m\u001b[38;5;124m\"\u001b[39m)\n",
      "File \u001b[1;32m~\\AppData\\Local\\Packages\\PythonSoftwareFoundation.Python.3.13_qbz5n2kfra8p0\\LocalCache\\local-packages\\Python313\\site-packages\\mysql\\connector\\cursor.py:537\u001b[0m, in \u001b[0;36mMySQLCursor.execute\u001b[1;34m(self, operation, params, multi)\u001b[0m\n\u001b[0;32m    534\u001b[0m     \u001b[38;5;28;01mreturn\u001b[39;00m \u001b[38;5;28mself\u001b[39m\u001b[38;5;241m.\u001b[39m_execute_iter(\u001b[38;5;28mself\u001b[39m\u001b[38;5;241m.\u001b[39m_connection\u001b[38;5;241m.\u001b[39mcmd_query_iter(stmt))\n\u001b[0;32m    536\u001b[0m \u001b[38;5;28;01mtry\u001b[39;00m:\n\u001b[1;32m--> 537\u001b[0m     \u001b[38;5;28mself\u001b[39m\u001b[38;5;241m.\u001b[39m_handle_result(\u001b[38;5;28;43mself\u001b[39;49m\u001b[38;5;241;43m.\u001b[39;49m\u001b[43m_connection\u001b[49m\u001b[38;5;241;43m.\u001b[39;49m\u001b[43mcmd_query\u001b[49m\u001b[43m(\u001b[49m\u001b[43mstmt\u001b[49m\u001b[43m)\u001b[49m)\n\u001b[0;32m    538\u001b[0m \u001b[38;5;28;01mexcept\u001b[39;00m InterfaceError \u001b[38;5;28;01mas\u001b[39;00m err:\n\u001b[0;32m    539\u001b[0m     \u001b[38;5;28;01mif\u001b[39;00m \u001b[38;5;28mself\u001b[39m\u001b[38;5;241m.\u001b[39m_connection\u001b[38;5;241m.\u001b[39mhave_next_result:\n",
      "File \u001b[1;32m~\\AppData\\Local\\Packages\\PythonSoftwareFoundation.Python.3.13_qbz5n2kfra8p0\\LocalCache\\local-packages\\Python313\\site-packages\\mysql\\connector\\opentelemetry\\context_propagation.py:97\u001b[0m, in \u001b[0;36mwith_context_propagation.<locals>.wrapper\u001b[1;34m(cnx, *args, **kwargs)\u001b[0m\n\u001b[0;32m     95\u001b[0m \u001b[38;5;66;03m# pylint: disable=possibly-used-before-assignment\u001b[39;00m\n\u001b[0;32m     96\u001b[0m \u001b[38;5;28;01mif\u001b[39;00m \u001b[38;5;129;01mnot\u001b[39;00m OTEL_ENABLED \u001b[38;5;129;01mor\u001b[39;00m \u001b[38;5;129;01mnot\u001b[39;00m cnx\u001b[38;5;241m.\u001b[39motel_context_propagation:\n\u001b[1;32m---> 97\u001b[0m     \u001b[38;5;28;01mreturn\u001b[39;00m \u001b[43mmethod\u001b[49m\u001b[43m(\u001b[49m\u001b[43mcnx\u001b[49m\u001b[43m,\u001b[49m\u001b[43m \u001b[49m\u001b[38;5;241;43m*\u001b[39;49m\u001b[43margs\u001b[49m\u001b[43m,\u001b[49m\u001b[43m \u001b[49m\u001b[38;5;241;43m*\u001b[39;49m\u001b[38;5;241;43m*\u001b[39;49m\u001b[43mkwargs\u001b[49m\u001b[43m)\u001b[49m\n\u001b[0;32m     99\u001b[0m current_span \u001b[38;5;241m=\u001b[39m trace\u001b[38;5;241m.\u001b[39mget_current_span()\n\u001b[0;32m    100\u001b[0m tp_header \u001b[38;5;241m=\u001b[39m \u001b[38;5;28;01mNone\u001b[39;00m\n",
      "File \u001b[1;32m~\\AppData\\Local\\Packages\\PythonSoftwareFoundation.Python.3.13_qbz5n2kfra8p0\\LocalCache\\local-packages\\Python313\\site-packages\\mysql\\connector\\connection.py:872\u001b[0m, in \u001b[0;36mMySQLConnection.cmd_query\u001b[1;34m(self, query, raw, buffered, raw_as_string)\u001b[0m\n\u001b[0;32m    870\u001b[0m query \u001b[38;5;241m=\u001b[39m \u001b[38;5;28mbytes\u001b[39m(packet)\n\u001b[0;32m    871\u001b[0m \u001b[38;5;28;01mtry\u001b[39;00m:\n\u001b[1;32m--> 872\u001b[0m     result \u001b[38;5;241m=\u001b[39m \u001b[38;5;28;43mself\u001b[39;49m\u001b[38;5;241;43m.\u001b[39;49m\u001b[43m_handle_result\u001b[49m\u001b[43m(\u001b[49m\u001b[38;5;28;43mself\u001b[39;49m\u001b[38;5;241;43m.\u001b[39;49m\u001b[43m_send_cmd\u001b[49m\u001b[43m(\u001b[49m\u001b[43mServerCmd\u001b[49m\u001b[38;5;241;43m.\u001b[39;49m\u001b[43mQUERY\u001b[49m\u001b[43m,\u001b[49m\u001b[43m \u001b[49m\u001b[43mquery\u001b[49m\u001b[43m)\u001b[49m\u001b[43m)\u001b[49m\n\u001b[0;32m    873\u001b[0m \u001b[38;5;28;01mexcept\u001b[39;00m ProgrammingError \u001b[38;5;28;01mas\u001b[39;00m err:\n\u001b[0;32m    874\u001b[0m     \u001b[38;5;28;01mif\u001b[39;00m err\u001b[38;5;241m.\u001b[39merrno \u001b[38;5;241m==\u001b[39m \u001b[38;5;241m3948\u001b[39m \u001b[38;5;129;01mand\u001b[39;00m \u001b[38;5;124m\"\u001b[39m\u001b[38;5;124mLoading local data is disabled\u001b[39m\u001b[38;5;124m\"\u001b[39m \u001b[38;5;129;01min\u001b[39;00m err\u001b[38;5;241m.\u001b[39mmsg:\n",
      "File \u001b[1;32m~\\AppData\\Local\\Packages\\PythonSoftwareFoundation.Python.3.13_qbz5n2kfra8p0\\LocalCache\\local-packages\\Python313\\site-packages\\mysql\\connector\\connection.py:648\u001b[0m, in \u001b[0;36mMySQLConnection._handle_result\u001b[1;34m(self, packet)\u001b[0m\n\u001b[0;32m    646\u001b[0m     \u001b[38;5;28;01mreturn\u001b[39;00m \u001b[38;5;28mself\u001b[39m\u001b[38;5;241m.\u001b[39m_handle_eof(packet)\n\u001b[0;32m    647\u001b[0m \u001b[38;5;28;01mif\u001b[39;00m packet[\u001b[38;5;241m4\u001b[39m] \u001b[38;5;241m==\u001b[39m \u001b[38;5;241m255\u001b[39m:\n\u001b[1;32m--> 648\u001b[0m     \u001b[38;5;28;01mraise\u001b[39;00m get_exception(packet)\n\u001b[0;32m    650\u001b[0m \u001b[38;5;66;03m# We have a text result set\u001b[39;00m\n\u001b[0;32m    651\u001b[0m column_count \u001b[38;5;241m=\u001b[39m \u001b[38;5;28mself\u001b[39m\u001b[38;5;241m.\u001b[39m_protocol\u001b[38;5;241m.\u001b[39mparse_column_count(packet)\n",
      "\u001b[1;31mProgrammingError\u001b[0m: 1051 (42S02): Unknown table 'retail.stud_table'"
     ]
    }
   ],
   "source": [
    "drop_table=\"\"\"drop Table stud_table\"\"\"\n",
    "testdb.execute(drop_table)\n",
    "print(\"Table has been dropped\")"
   ]
  }
 ],
 "metadata": {
  "kernelspec": {
   "display_name": "Python 3",
   "language": "python",
   "name": "python3"
  },
  "language_info": {
   "codemirror_mode": {
    "name": "ipython",
    "version": 3
   },
   "file_extension": ".py",
   "mimetype": "text/x-python",
   "name": "python",
   "nbconvert_exporter": "python",
   "pygments_lexer": "ipython3",
   "version": "3.13.1"
  }
 },
 "nbformat": 4,
 "nbformat_minor": 2
}
