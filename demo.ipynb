{
 "cells": [
  {
   "cell_type": "code",
   "execution_count": 2,
   "metadata": {},
   "outputs": [],
   "source": [
    "shopping_list = [\n",
    "    {\"item\": \"Apple\", \"price\": 10, \"quantity\": 1},\n",
    "    {\"item\": \"Bread\", \"price\": 20, \"quantity\": 1},\n",
    "    {\"item\": \"Milk\", \"price\": 30, \"quantity\": 1},\n",
    "    {\"item\": \"Eggs\", \"price\": 40, \"quantity\": 1}\n",
    "]"
   ]
  },
  {
   "cell_type": "code",
   "execution_count": 4,
   "metadata": {},
   "outputs": [
    {
     "name": "stdout",
     "output_type": "stream",
     "text": [
      "<class 'list'>\n"
     ]
    }
   ],
   "source": [
    "print(type(shopping_list\n",
    "           ))"
   ]
  },
  {
   "cell_type": "code",
   "execution_count": 5,
   "metadata": {},
   "outputs": [
    {
     "name": "stdout",
     "output_type": "stream",
     "text": [
      "<class 'dict'>\n"
     ]
    }
   ],
   "source": [
    "print(type(shopping_list[0]))"
   ]
  },
  {
   "cell_type": "code",
   "execution_count": 7,
   "metadata": {},
   "outputs": [
    {
     "name": "stdout",
     "output_type": "stream",
     "text": [
      "Apple\n"
     ]
    }
   ],
   "source": [
    "print(shopping_list[0]['item'])"
   ]
  },
  {
   "cell_type": "code",
   "execution_count": 8,
   "metadata": {},
   "outputs": [],
   "source": [
    "# Function to calculate the total cost\n",
    "def calculate_total_cost(items):\n",
    "    total_cost = 0  # Initialize the total cost\n",
    "    for item in items:  # Loop through each item in the list\n",
    "        item_cost = item[\"price\"] * item[\"quantity\"]  # Calculate the cost for each item\n",
    "        total_cost += item_cost  # Add to the total cost\n",
    "    return total_cost"
   ]
  },
  {
   "cell_type": "code",
   "execution_count": 9,
   "metadata": {},
   "outputs": [
    {
     "name": "stdout",
     "output_type": "stream",
     "text": [
      "Total cost of shopping: $100\n"
     ]
    }
   ],
   "source": [
    "total = calculate_total_cost(shopping_list)  # Call the function\n",
    "print(f\"Total cost of shopping: ${total}\")  "
   ]
  },
  {
   "cell_type": "code",
   "execution_count": 12,
   "metadata": {},
   "outputs": [],
   "source": [
    "# Function to print items over a specific price threshold\n",
    "def print_expensive_items(items, price_threshold):\n",
    "    print(f\"Items costing more than ${price_threshold}:\")\n",
    "    for item in items:  # Loop through each item in the list\n",
    "        if item[\"price\"] > price_threshold:  # Conditional logic\n",
    "            # print(f\"{item['item']} - ${item['price']} each\")\n",
    "            print(item['item'] +  \" \" +  str(item['price']))"
   ]
  },
  {
   "cell_type": "code",
   "execution_count": 14,
   "metadata": {},
   "outputs": [
    {
     "name": "stdout",
     "output_type": "stream",
     "text": [
      "Items costing more than $20:\n",
      "Milk30\n",
      "Eggs40\n"
     ]
    }
   ],
   "source": [
    "print_expensive_items(shopping_list, 20)"
   ]
  },
  {
   "cell_type": "code",
   "execution_count": 3,
   "metadata": {},
   "outputs": [
    {
     "name": "stdout",
     "output_type": "stream",
     "text": [
      "[{'item': 'Apple', 'price': 10, 'quantity': 1}, {'item': 'Bread', 'price': 20, 'quantity': 1}, {'item': 'Milk', 'price': 30, 'quantity': 1}, {'item': 'Eggs', 'price': 40, 'quantity': 1}]\n"
     ]
    }
   ],
   "source": [
    "print(shopping_list\n",
    "      )"
   ]
  }
 ],
 "metadata": {
  "kernelspec": {
   "display_name": "Python 3",
   "language": "python",
   "name": "python3"
  },
  "language_info": {
   "codemirror_mode": {
    "name": "ipython",
    "version": 3
   },
   "file_extension": ".py",
   "mimetype": "text/x-python",
   "name": "python",
   "nbconvert_exporter": "python",
   "pygments_lexer": "ipython3",
   "version": "3.13.1"
  }
 },
 "nbformat": 4,
 "nbformat_minor": 2
}
