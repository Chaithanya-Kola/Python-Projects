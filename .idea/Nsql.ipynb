{
 "cells": [
  {
   "cell_type": "code",
   "execution_count": 4,
   "metadata": {},
   "outputs": [],
   "source": [
    "import mysql.connector\n"
   ]
  },
  {
   "cell_type": "code",
   "execution_count": 5,
   "metadata": {},
   "outputs": [],
   "source": [
    "Adb = mysql.connector.connect(\n",
    "    user='mysqluser',\n",
    "    password='*7E567C9DC06217268D72D52BABCA14EAB8993ACF',\n",
    "    host='104.237.2.219',\n",
    "    port='5340',\n",
    "    database='retail'\n",
    ")"
   ]
  },
  {
   "cell_type": "code",
   "execution_count": 8,
   "metadata": {},
   "outputs": [
    {
     "name": "stdout",
     "output_type": "stream",
     "text": [
      "Database has been succesfully created\n"
     ]
    }
   ],
   "source": [
    "newdb = Adb.cursor()\n",
    "\n",
    "newdb.execute(\"create database Colg_database\")\n",
    "\n",
    "print(\"Database has been succesfully created\")"
   ]
  },
  {
   "cell_type": "code",
   "execution_count": 9,
   "metadata": {},
   "outputs": [
    {
     "name": "stdout",
     "output_type": "stream",
     "text": [
      "Database is in Use\n"
     ]
    }
   ],
   "source": [
    "newdb.execute(\"use Colg_database\")\n",
    "print(\"Database is in Use\")"
   ]
  },
  {
   "cell_type": "code",
   "execution_count": 10,
   "metadata": {},
   "outputs": [
    {
     "name": "stdout",
     "output_type": "stream",
     "text": [
      "Student table created\n"
     ]
    }
   ],
   "source": [
    "newdb.execute(\"\"\"\n",
    "            Create Table stud_table (\n",
    "              stud_ID INT Primary Key Auto_increment,\n",
    "              stud_name VARCHAR (30),\n",
    "              age INT,\n",
    "              dep_ID INT\n",
    ")\"\"\")\n",
    "\n",
    "print(\"Student table created\")"
   ]
  },
  {
   "cell_type": "code",
   "execution_count": 11,
   "metadata": {},
   "outputs": [
    {
     "name": "stdout",
     "output_type": "stream",
     "text": [
      "Course table created\n"
     ]
    }
   ],
   "source": [
    "newdb.execute(\"\"\"\n",
    "                create Table course_table(\n",
    "                course_id INT PRIMARY KEY,\n",
    "                course_name VARCHAR(100),\n",
    "                professor_id INT\n",
    ")\"\"\")\n",
    "print(\"Course table created\")"
   ]
  },
  {
   "cell_type": "code",
   "execution_count": 12,
   "metadata": {},
   "outputs": [
    {
     "name": "stdout",
     "output_type": "stream",
     "text": [
      "Course table created\n"
     ]
    }
   ],
   "source": [
    "newdb.execute(\"\"\"\n",
    "                CREATE TABLE Professors (\n",
    "                professor_id INT PRIMARY KEY,\n",
    "                Prof_name VARCHAR(50),\n",
    "                department_id INT\n",
    ")\"\"\")\n",
    "print(\"Course table created\")"
   ]
  },
  {
   "cell_type": "code",
   "execution_count": 14,
   "metadata": {},
   "outputs": [
    {
     "name": "stdout",
     "output_type": "stream",
     "text": [
      "Table has been dropped\n"
     ]
    }
   ],
   "source": [
    "drop_table=\"\"\"drop Table Professors\"\"\"\n",
    "newdb.execute(drop_table)\n",
    "print(\"Table has been dropped\")"
   ]
  },
  {
   "cell_type": "code",
   "execution_count": 15,
   "metadata": {},
   "outputs": [
    {
     "name": "stdout",
     "output_type": "stream",
     "text": [
      "Table has been dropped\n"
     ]
    }
   ],
   "source": [
    "drop_table1=\"\"\"drop Table course_table\"\"\"\n",
    "newdb.execute(drop_table1)\n",
    "print(\"Table has been dropped\")"
   ]
  },
  {
   "cell_type": "code",
   "execution_count": 16,
   "metadata": {},
   "outputs": [
    {
     "name": "stdout",
     "output_type": "stream",
     "text": [
      "Course table created\n"
     ]
    }
   ],
   "source": [
    "newdb.execute(\"\"\"\n",
    "                create Table course_table(\n",
    "                course_id INT PRIMARY KEY,\n",
    "                course_name VARCHAR(100),\n",
    "                stud_ID INT,\n",
    "               foreign key (stud_ID) References stud_table (stud_ID)\n",
    ")\"\"\")\n",
    "print(\"Course table created\")"
   ]
  },
  {
   "cell_type": "code",
   "execution_count": 17,
   "metadata": {},
   "outputs": [
    {
     "name": "stdout",
     "output_type": "stream",
     "text": [
      "Student values inserted\n"
     ]
    }
   ],
   "source": [
    "Students = [\n",
    "(\"sai\",21,1),\n",
    " (\"Charan\",22,1),\n",
    " (\"Varun\",24,2),\n",
    " (\"krishna\",22,2),\n",
    " (\"Bhavana\",21,2),\n",
    " (\"Jagan\",21,3),\n",
    " (\"Vishnu\",21,1),\n",
    " (\"Veda\",21,3),\n",
    " (\"Surya\",21,3)\n",
    "]\n",
    "for stud in Students:\n",
    "    newdb.execute(\"insert into stud_table (stud_name,age,dep_id) Values (%s,%s,%s)\",stud)\n",
    "Adb.commit()\n",
    "print(\"Student values inserted\")"
   ]
  },
  {
   "cell_type": "code",
   "execution_count": 20,
   "metadata": {},
   "outputs": [
    {
     "name": "stdout",
     "output_type": "stream",
     "text": [
      "Courses Inserted\n"
     ]
    }
   ],
   "source": [
    "Courses= [(1,\"HR\",1),(2,\"Marketing\",2),(3,\"Sales\",1),(4,\"Product\",2),(5,\"Project\",3)]\n",
    "for cou in Courses:\n",
    "    newdb.execute(\"Insert into course_table (course_ID,course_Name,stud_ID) values (%s,%s,%s)\" ,cou)\n",
    "Adb.commit()\n",
    "print(\"Courses Inserted\")"
   ]
  },
  {
   "cell_type": "code",
   "execution_count": 21,
   "metadata": {},
   "outputs": [
    {
     "name": "stdout",
     "output_type": "stream",
     "text": [
      "(1, 'sai', 21, 1)\n",
      "(2, 'Charan', 22, 1)\n",
      "(3, 'Varun', 24, 2)\n",
      "(4, 'krishna', 22, 2)\n",
      "(5, 'Bhavana', 21, 2)\n",
      "(6, 'Jagan', 21, 3)\n",
      "(7, 'Vishnu', 21, 1)\n",
      "(8, 'Veda', 21, 3)\n",
      "(9, 'Surya', 21, 3)\n"
     ]
    }
   ],
   "source": [
    "show_table1 = \"\"\"SELECT *from stud_table\"\"\"\n",
    "newdb.execute(show_table1)\n",
    "ss = newdb.fetchall()\n",
    "for s in ss:\n",
    "    print(s)"
   ]
  },
  {
   "cell_type": "code",
   "execution_count": 22,
   "metadata": {},
   "outputs": [
    {
     "name": "stdout",
     "output_type": "stream",
     "text": [
      "(1, 'HR', 1)\n",
      "(2, 'Marketing', 2)\n",
      "(3, 'Sales', 1)\n",
      "(4, 'Product', 2)\n",
      "(5, 'Project', 3)\n"
     ]
    }
   ],
   "source": [
    "show_table2 = \"\"\"SELECT *from course_table\"\"\"\n",
    "newdb.execute(show_table2)\n",
    "YY = newdb.fetchall()\n",
    "for y in YY:\n",
    "    print(y)"
   ]
  },
  {
   "cell_type": "code",
   "execution_count": 30,
   "metadata": {},
   "outputs": [
    {
     "ename": "InternalError",
     "evalue": "Unread result found",
     "output_type": "error",
     "traceback": [
      "\u001b[1;31m---------------------------------------------------------------------------\u001b[0m",
      "\u001b[1;31mInternalError\u001b[0m                             Traceback (most recent call last)",
      "Cell \u001b[1;32mIn[30], line 2\u001b[0m\n\u001b[0;32m      1\u001b[0m drop_table \u001b[38;5;241m=\u001b[39m \u001b[38;5;124m\"\"\"\u001b[39m\u001b[38;5;124mdrop Table stud_table\u001b[39m\u001b[38;5;124m\"\"\"\u001b[39m\n\u001b[1;32m----> 2\u001b[0m \u001b[43mnewdb\u001b[49m\u001b[38;5;241;43m.\u001b[39;49m\u001b[43mexecute\u001b[49m\u001b[43m(\u001b[49m\u001b[43mdrop_table\u001b[49m\u001b[43m)\u001b[49m\n\u001b[0;32m      3\u001b[0m \u001b[38;5;28mprint\u001b[39m(\u001b[38;5;124m\"\u001b[39m\u001b[38;5;124mTable has been dropped\u001b[39m\u001b[38;5;124m\"\u001b[39m)\n",
      "File \u001b[1;32m~\\AppData\\Local\\Packages\\PythonSoftwareFoundation.Python.3.13_qbz5n2kfra8p0\\LocalCache\\local-packages\\Python313\\site-packages\\mysql\\connector\\cursor.py:502\u001b[0m, in \u001b[0;36mMySQLCursor.execute\u001b[1;34m(self, operation, params, multi)\u001b[0m\n\u001b[0;32m    499\u001b[0m \u001b[38;5;28;01mexcept\u001b[39;00m (ProgrammingError, \u001b[38;5;167;01mReferenceError\u001b[39;00m) \u001b[38;5;28;01mas\u001b[39;00m err:\n\u001b[0;32m    500\u001b[0m     \u001b[38;5;28;01mraise\u001b[39;00m ProgrammingError(\u001b[38;5;124m\"\u001b[39m\u001b[38;5;124mCursor is not connected\u001b[39m\u001b[38;5;124m\"\u001b[39m) \u001b[38;5;28;01mfrom\u001b[39;00m \u001b[38;5;21;01merr\u001b[39;00m\n\u001b[1;32m--> 502\u001b[0m \u001b[38;5;28;43mself\u001b[39;49m\u001b[38;5;241;43m.\u001b[39;49m\u001b[43m_connection\u001b[49m\u001b[38;5;241;43m.\u001b[39;49m\u001b[43mhandle_unread_result\u001b[49m\u001b[43m(\u001b[49m\u001b[43m)\u001b[49m\n\u001b[0;32m    504\u001b[0m \u001b[38;5;28mself\u001b[39m\u001b[38;5;241m.\u001b[39m_reset_result()\n\u001b[0;32m    505\u001b[0m stmt: StrOrBytes \u001b[38;5;241m=\u001b[39m \u001b[38;5;124m\"\u001b[39m\u001b[38;5;124m\"\u001b[39m\n",
      "File \u001b[1;32m~\\AppData\\Local\\Packages\\PythonSoftwareFoundation.Python.3.13_qbz5n2kfra8p0\\LocalCache\\local-packages\\Python313\\site-packages\\mysql\\connector\\connection.py:1574\u001b[0m, in \u001b[0;36mMySQLConnection.handle_unread_result\u001b[1;34m(self)\u001b[0m\n\u001b[0;32m   1572\u001b[0m     \u001b[38;5;28mself\u001b[39m\u001b[38;5;241m.\u001b[39mconsume_results()\n\u001b[0;32m   1573\u001b[0m \u001b[38;5;28;01melif\u001b[39;00m \u001b[38;5;28mself\u001b[39m\u001b[38;5;241m.\u001b[39munread_result:\n\u001b[1;32m-> 1574\u001b[0m     \u001b[38;5;28;01mraise\u001b[39;00m InternalError(\u001b[38;5;124m\"\u001b[39m\u001b[38;5;124mUnread result found\u001b[39m\u001b[38;5;124m\"\u001b[39m)\n",
      "\u001b[1;31mInternalError\u001b[0m: Unread result found"
     ]
    }
   ],
   "source": [
    "drop_table = \"\"\"drop Table stud_table\"\"\"\n",
    "newdb.execute(drop_table)\n",
    "print(\"Table has been dropped\")"
   ]
  }
 ],
 "metadata": {
  "kernelspec": {
   "display_name": "Python 3",
   "language": "python",
   "name": "python3"
  },
  "language_info": {
   "codemirror_mode": {
    "name": "ipython",
    "version": 3
   },
   "file_extension": ".py",
   "mimetype": "text/x-python",
   "name": "python",
   "nbconvert_exporter": "python",
   "pygments_lexer": "ipython3",
   "version": "3.13.1"
  }
 },
 "nbformat": 4,
 "nbformat_minor": 2
}
